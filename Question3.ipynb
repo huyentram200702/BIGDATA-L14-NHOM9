{
  "nbformat": 4,
  "nbformat_minor": 0,
  "metadata": {
    "colab": {
      "provenance": []
    },
    "kernelspec": {
      "name": "python3",
      "display_name": "Python 3"
    },
    "language_info": {
      "name": "python"
    }
  },
  "cells": [
    {
      "cell_type": "markdown",
      "source": [
        "# **Đề bài**\n",
        "\n",
        "**When simulating a random permutation of rows, as described in Sect. 3.3.5 of MMDS, we could save time if we restricted our attention to a randomly chosen k of the n rows, rather than hashing all n row numbers. The downside of doing so is that, if none of the k rows contains a 1 in a certain column, then the result of the minhashing is “don’t know”. In other words, we get no row number as the minhash value. It would be a mistake to assume that two columns that both minhash to “don’t know” are likely to be similar. However, if the probability of getting “don’t know” as a minhash value is small, we can tolerate the situation and simply ignore such minhash values when computing the fraction of minhashes in which two columns agree. In part (a) we determine an upper bound on the probability of getting “don’t know” as the minhash value when considering only a k-subset of the n rows, and in part (b) we use this bound to determine an appropriate choice for k, given our tolerance for this probability.** \n",
        "\n",
        "`Khi mô phỏng một hoán vị ngẫu nhiên của các hàng trong ma trận, như được mô tả trong phần 3.3.5 của sách \"Mining of Massive Datasets\", chúng ta có thể thực hiện minhashing trên tập con k hàng được chọn ngẫu nhiên trên n hàng. Hạn chế của việc giảm thiểu số hàng xét đến là nếu không có hàng nào trong k hàng chứa giá trị 1 trong một cột nhất định thì kết quả của minhashing sẽ là \"don't know\" hoặc tương tự như vậy. Tuy nhiên, nếu xác suất để có kết quả minhash là \"don't know\" là nhỏ, chúng ta có thể chấp nhận tình huống này và đơn giản bỏ qua các giá trị minhash này khi tính tỷ lệ các minhash mà hai cột trùng nhau. Trong phần (a) chúng ta xác định một giới hạn trên cho xác suất thu được \"don't know\" là giá trị minhash khi chỉ xem xét một tập con k của n hàng, và trong phần (b) chúng ta sử dụng giới hạn này để xác định một lựa chọn phù hợp cho k, dựa trên mức độ chấp nhận được của chúng ta đối với xác suất này.`\n",
        "\n",
        "**a. Suppose a column has m 1’s and therefore n − m 0’s, and we randomly choose k rows to consider when computing the minhash. Prove that the probability of getting “don’t know” as the minhash value for this column is at most (n−k/n)^m.**\n",
        "\n",
        "`Đề bài yêu cầu chúng ta chứng minh rằng xác suất để thuật toán minhash trả về giá trị \"don't know\" khi áp dụng trên một cột dữ liệu có m phần tử bằng 1 và (n-m) phần tử bằng 0, với k hàng được chọn ngẫu nhiên trong số n hàng, là không quá (n-k/n)^m.`\n",
        "\n",
        "**b. Suppose we want the probability of “don’t know” to be at most e −10. Assuming n and m are both very large (but n is much larger than m or k), give a simple approximation to the smallest value of k that will ensure this probability is at most e −10. Your expression should be a function of n and m. Hints: (1) You can use (n−k n )^m as the exact value of the probability of “don’t know.” (2) Remember that for large x, (1 − 1 x ) x ≈ 1/e.**\n",
        "\n",
        "`Đề bài yêu cầu tìm giá trị nhỏ nhất của k (số lượng hàng được chọn để tính minhash) để đảm bảo xác suất nhận được giá trị \"don't know\" (không biết) khi tính minhash cho một cột là không vượt quá giá trị e^(-10), với giả định n và m đều lớn (nhưng n lớn hơn rất nhiều so với m hoặc k). Bài toán yêu cầu xác định k bằng một công thức đơn giản chỉ phụ thuộc vào n và m.\n",
        "Gợi ý của đề bài là sử dụng công thức (n-k/n)^m để tính xác suất nhận được giá trị \"don't know\" và áp dụng công thức xấp xỉ (1-1/x)^x ~ 1/e với x lớn để đơn giản hóa tính toán.`\n",
        "\n",
        "**c. Note: Part (c) should be considered separate from the previous two parts, in that we are no longer restricting our attention to a randomly chosen subset of the rows. \n",
        "When minhashing, one might expect that we could estimate the Jaccard similarity without using all possible permutations of rows. For example, we could only allow cyclic permutations, i.e. start at a randomly chosen row r, which becomes the first in the order, followed by rows r + 1, r + 2, and so on, down to the last row, and then continuing with the first row, second row, and so on, down to row r − 1. There are only n such permutations if there are n rows. However, these permutations are not sufficient to estimate the Jaccard similarity correctly.** \n",
        "\n",
        "\n",
        "**Give an example of two columns such that the probability (over cyclic permutations only) that their minhash values agree is not the same as their Jaccard similarity. In your answer, please provide (a) an example of a matrix with two columns (let the two columns correspond to sets denoted by S1 and S2), (b) the Jaccard similarity of S1 and S2, and (c) the probability that a random cyclic permutation yields the same minhash value for both S1 and S2.** \n",
        "\n",
        "`Tìm ví dụ cho thấy rằng việc sử dụng các hoán vòng (cyclic permutations) không đủ để ước lượng đúng độ tương đồng Jaccard của hai cột trong ma trận (tương ứng với hai tập hợp S1 và S2). Phần này yêu cầu cung cấp một ma trận với hai cột, tính giá trị Jaccard của hai cột đó và tính xác suất nhận được cùng giá trị minhash cho hai cột đó khi sử dụng cyclic permutations.`"
      ],
      "metadata": {
        "id": "xtm5vVb7hzgJ"
      }
    },
    {
      "cell_type": "markdown",
      "source": [
        "## Answer a. b.\n",
        "\n",
        "Số cột có m phần tử 1 trên tổng số n cột là `(n/m)`. Số lượng cột đó mà không có số 1 trong & hàng được chọn là `(n-k/m)`.\n",
        "\n",
        "Xác suất để chọn được cột đó là: `(n-k/m)/(n/m)`.\n",
        "\n",
        "Do đó, xác suất để đạt được \"don't know\" khi minhashing cho cột đó là 1 trên tổng số `(n/m)` trường hợp cột, tức là:\n",
        "\n",
        "\n",
        "`P (don't know) = n-k m n m +n-k!m!n-m!m!n-k-m!n!+n-kn-k-1n-k-m+1n∙n-1n-m+1`\n",
        "\n",
        "Để giới hạn xác suất này, ta có thể sử dụng bất đẳng thức AM- GM:\n",
        " `n-k+n-k-1+⋯+n-k-m+1mmn-kn-k-1n-k-m+1`\n",
        "\n",
        "Hay: `n-k-m+1∙(n-k-m+2)⋯n-kn-kmmnm`\n",
        "\n",
        "Do đó: `P (don't know) = n-kn-k-1n-k-m+1n∙n-1n-m+1n-knm`\n",
        "\n",
        "Vì vậy, xác suất tối đa để đạt được \"don't know\" là $\\left(\\frac{n-k}{n}\\right)^m$.\n",
        "\n",
        "Với giá trị $e^{-10}$, ta có:\n",
        "`n - knme - 10`\n",
        "\n",
        "Tương đương với:\n",
        "`1 - knme - 10`\n",
        "\n",
        "Do $1-x\\le e^{-x}$, ta có:\n",
        "\n",
        "`x - kmn = e - 10`\n",
        "\n"
      ],
      "metadata": {
        "id": "PWSrI3MzifF9"
      }
    },
    {
      "cell_type": "markdown",
      "source": [
        "## Answer c.\n",
        "\n",
        "Hai cột (tập hợp) là:\n",
        "css\n",
        "Copy code [0 1 0]^T và [0 1 1]^T\n",
        "\n",
        "(b) Giá trị hệ số tương đồng Jaccard giữa S1 và S2 là:\n",
        "javascript\n",
        "Copy code\n",
        "J(S1, S2) = |S1 ∩ S2| / |S1 ∪ S2| = ½\n",
        "\n",
        "(c) Xác suất để một hoán vị tuần hoàn ngẫu nhiên cho giá trị minhash giống nhau cho cả S1 và S2 là:\n",
        "less\n",
        "Copy code\n",
        "P(minhash(S1) = minhash(S2) | cyclic permutations) = ⅔\n",
        "\n",
        "Giải thích:\n",
        "Khi chỉ xem xét các hoán vị tuần hoàn, chỉ có ba hoán vị có thể xảy ra: (1,2,3), (2,3,1), và (3,1,2). Nếu chúng ta bắt đầu chu kỳ tại hàng đầu tiên hoặc thứ hai (1 hoặc 2), giá trị minhash của S1 và S2 sẽ giống nhau. Tuy nhiên, nếu chúng ta bắt đầu chu kỳ tại hàng cuối cùng (3), giá trị minhash sẽ khác nhau. Do đó, xác suất của giá trị minhash giống nhau là 2/3.\n",
        "\n",
        "\n"
      ],
      "metadata": {
        "id": "HU1_kk5SmSDO"
      }
    }
  ]
}