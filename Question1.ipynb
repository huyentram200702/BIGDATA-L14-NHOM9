{
  "nbformat": 4,
  "nbformat_minor": 0,
  "metadata": {
    "colab": {
      "provenance": []
    },
    "kernelspec": {
      "name": "python3",
      "display_name": "Python 3"
    }
  },
  "cells": [
    {
      "cell_type": "markdown",
      "metadata": {
        "id": "dtap63bYWEz0"
      },
      "source": [
        "# CS246 - Homework 1\n",
        "\n",
        "## Question 1\n",
        "\n",
        "### Spark"
      ]
    },
    {
      "cell_type": "markdown",
      "metadata": {
        "id": "p0-YhEpP_Ds-"
      },
      "source": [
        "### Setup"
      ]
    },
    {
      "cell_type": "markdown",
      "metadata": {
        "id": "Zsj5WYpR9QId"
      },
      "source": [
        "Let's setup Spark on your Colab environment.  Run the cell below!"
      ]
    },
    {
      "cell_type": "code",
      "metadata": {
        "id": "tmZp-9R-Vz16"
      },
      "source": [
        "!pip install pyspark\n",
        "!pip install -U -q PyDrive\n",
        "!apt install openjdk-8-jdk-headless -qq\n",
        "import os\n",
        "os.environ[\"JAVA_HOME\"] = \"/usr/lib/jvm/java-8-openjdk-amd64\""
      ],
      "execution_count": null,
      "outputs": []
    },
    {
      "cell_type": "markdown",
      "metadata": {
        "id": "-CJ71AKe91eh"
      },
      "source": [
        "Now we authenticate a Google Drive client to download the file we will be processing in our Spark job.\n",
        "\n",
        "**Make sure to follow the interactive instructions.**"
      ]
    },
    {
      "cell_type": "code",
      "metadata": {
        "id": "o78Q_846WUlk"
      },
      "source": [
        "from pydrive.auth import GoogleAuth\n",
        "from pydrive.drive import GoogleDrive\n",
        "from google.colab import auth\n",
        "from oauth2client.client import GoogleCredentials\n",
        "\n",
        "# Authenticate and create the PyDrive client\n",
        "auth.authenticate_user()\n",
        "gauth = GoogleAuth()\n",
        "gauth.credentials = GoogleCredentials.get_application_default()\n",
        "drive = GoogleDrive(gauth)"
      ],
      "execution_count": null,
      "outputs": []
    },
    {
      "cell_type": "markdown",
      "metadata": {
        "id": "a6z-lZAQXHdV"
      },
      "source": [
        "Get the data"
      ]
    },
    {
      "cell_type": "code",
      "metadata": {
        "id": "JfTW-hKfWrpv"
      },
      "source": [
        "id='1cnwlg_eFEzNcKrI2UVNKiCVInoXfiAd2'\n",
        "downloaded = drive.CreateFile({'id': id})\n",
        "downloaded.GetContentFile('soc-LiveJournal1Adj.txt')"
      ],
      "execution_count": null,
      "outputs": []
    },
    {
      "cell_type": "markdown",
      "metadata": {
        "id": "Hm9hq1vf1pkw"
      },
      "source": [
        "Import Spark"
      ]
    },
    {
      "cell_type": "code",
      "metadata": {
        "id": "NFSTBSlzXPge"
      },
      "source": [
        "from pyspark.sql import *\n",
        "from pyspark.sql.functions import *\n",
        "from pyspark import SparkContext\n",
        "import pandas as pd\n",
        "import itertools\n",
        "\n",
        "# create the Spark Session\n",
        "spark = SparkSession.builder.getOrCreate()\n",
        "\n",
        "# create the Spark Context\n",
        "sc = spark.sparkContext"
      ],
      "execution_count": null,
      "outputs": []
    },
    {
      "cell_type": "code",
      "source": [
        "data = sc.textFile('/content/soc-LiveJournal1Adj.txt')"
      ],
      "metadata": {
        "id": "V0skrC8TM6LU"
      },
      "execution_count": null,
      "outputs": []
    },
    {
      "cell_type": "code",
      "metadata": {
        "id": "8BasEyYC2Fzf"
      },
      "source": [
        "'''Hàm make_tuple nhận đầu vào là một chuỗi văn bản và chuyển đổi nó thành một friends_list. \n",
        "Mỗi cặp là một tuple gồm hai phần tử, đại diện cho hai friends, và một giá trị số nguyên, đại diện cho mối quan hệ giữa hai friends đó.'''\n",
        "def make_tuple(line):\n",
        "  tokens = line.split('\\t')\n",
        "\n",
        "  if len(tokens) == 1 or tokens[0] == '':\n",
        "    return []\n",
        "\n",
        "  user = int(tokens[0])\n",
        "  friends = tokens[1].split(',')\n",
        "\n",
        "  user_friend_pairs = []\n",
        "  mutual_friend_pairs = []\n",
        "\n",
        "  for friend in friends:\n",
        "    if friend != '':\n",
        "      user_friend_pairs.append(((user, int(friend)), 0))\n",
        "\n",
        "  for i in range(0, len(friends) - 1):\n",
        "    for j in range(i + 1, len(friends)):\n",
        "      mutual_friend_pairs.append(((int(friends[i]), int(friends[j])), 1))\n",
        "      mutual_friend_pairs.append(((int(friends[j]), int(friends[i])), 1))\n",
        "\n",
        "  return user_friend_pairs + mutual_friend_pairs"
      ],
      "execution_count": null,
      "outputs": []
    },
    {
      "cell_type": "code",
      "metadata": {
        "id": "0yEnq_4k2-y7"
      },
      "source": [
        "relationship_pairs = data.flatMap(lambda line: make_tuple(line))\n",
        "already_friends = relationship_pairs.filter(lambda relationship: relationship[1] == 0)\n",
        "\n",
        "mutual_friends_pairs = relationship_pairs.subtractByKey(already_friends).\\\n",
        "                       reduceByKey(lambda a, b: a + b).\\\n",
        "                       map(lambda x: (x[0][0], (x[0][1], x[1]))).\\\n",
        "                       groupByKey().\\\n",
        "                       mapValues(list)"
      ],
      "execution_count": null,
      "outputs": []
    },
    {
      "cell_type": "code",
      "metadata": {
        "id": "dn3oJzX23EsA"
      },
      "source": [
        "'''Hàm recommend_new_friends nhận đầu vào là một tuple gồm một số nguyên (đại diện cho ID) \n",
        "và một danh sách các ID lạ (đại diện cho các ID khác mà ID hiện tại chưa có mối liên quan với nó), \n",
        "và tùy chọn một số nguyên n để chỉ ra số lượng ID được đề xuất là bạn mới. Hàm trả về một tuple, \n",
        "với phần đầu tiên là số nguyên đại diện cho ID, và phần thứ hai là một danh sách gồm n ID được đề xuất là bạn mới.'''\n",
        "\n",
        "def recommend_new_friends(user_and_strangers, n = 10):\n",
        "  user, list_of_strangers = user_and_strangers\n",
        "\n",
        "  ordered_strangers_list = sorted(list_of_strangers, key = lambda stranger_num_mutual_friends: (-stranger_num_mutual_friends[1], stranger_num_mutual_friends[0]))[:n]\n",
        "\n",
        "  recommendation = []\n",
        "  for k, v in ordered_strangers_list:\n",
        "    recommendation.append(k)\n",
        "\n",
        "  return user, recommendation"
      ],
      "execution_count": null,
      "outputs": []
    },
    {
      "cell_type": "code",
      "metadata": {
        "id": "yDOLXh4--jZd"
      },
      "source": [
        "#xử lý RDD\n",
        "result = mutual_friends_pairs.map(lambda user_and_strangers: recommend_new_friends(user_and_strangers)).\\\n",
        "         map(lambda user_recommendations: \"{}\\t{}\".format(user_recommendations[0], \",\".join(map(lambda x: str(x), user_recommendations[1])))).\\\n",
        "         collect()"
      ],
      "execution_count": null,
      "outputs": []
    },
    {
      "cell_type": "code",
      "source": [
        "user_IDs = ['924', '8941', '8942', '9019', '9020', '9021', '9022', '9990', '9992', '9993']\n",
        "\n",
        "for user_id in user_IDs:\n",
        "  for line in result:\n",
        "    user, recommendations = line.split('\\t')\n",
        "    if user == user_id:\n",
        "      print(line)"
      ],
      "metadata": {
        "colab": {
          "base_uri": "https://localhost:8080/"
        },
        "id": "dGV8ptlPNWF1",
        "outputId": "a5f9ad3d-1844-48ea-8786-b93e99ea4be1"
      },
      "execution_count": null,
      "outputs": [
        {
          "output_type": "stream",
          "name": "stdout",
          "text": [
            "924\t439,2409,6995,11860,15416,43748,45881\n",
            "8941\t8943,8944,8940\n",
            "8942\t8939,8940,8943,8944\n",
            "9019\t9022,317,9023\n",
            "9020\t9021,9016,9017,9022,317,9023\n",
            "9021\t9020,9016,9017,9022,317,9023\n",
            "9022\t9019,9020,9021,317,9016,9017,9023\n",
            "9990\t13134,13478,13877,34299,34485,34642,37941\n",
            "9992\t9987,9989,35667,9991\n",
            "9993\t9991,13134,13478,13877,34299,34485,34642,37941\n"
          ]
        }
      ]
    }
  ]
}