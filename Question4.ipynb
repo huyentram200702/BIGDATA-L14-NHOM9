{
  "nbformat": 4,
  "nbformat_minor": 0,
  "metadata": {
    "colab": {
      "provenance": []
    },
    "kernelspec": {
      "name": "python3",
      "display_name": "Python 3"
    },
    "language_info": {
      "name": "python"
    }
  },
  "cells": [
    {
      "cell_type": "markdown",
      "source": [
        "# CS246 - Homework 1\n",
        "\n",
        "## Question 4"
      ],
      "metadata": {
        "id": "mvYDo74epvWE"
      }
    },
    {
      "cell_type": "markdown",
      "source": [
        "### Answer section a. b. c."
      ],
      "metadata": {
        "id": "6WCL_3WhpzZg"
      }
    },
    {
      "cell_type": "markdown",
      "source": [
        "**a.** Trước hết, chúng ta xác định các tập hợp Wj và T như đã đề cập trong câu hỏi. Đối với mỗi hàm băm gj, tập hợp Wj chứa tất cả các điểm dữ liệu mà ánh xạ đến cùng một giá trị như điểm truy vấn z, và tập hợp T chứa tất cả các điểm dữ liệu cách z hơn cλ. \n",
        "\n",
        "Chúng ta muốn chứng minh rằng xác suất tìm thấy nhiều hơn 3L điểm dữ liệu trong phần giao giữa T và mỗi Wj là nhỏ.\n",
        "\n",
        "Giải pháp đã cho cung cấp một giới hạn trên kích thước kỳ vọng của sự giao giữa T và mỗi Wj. Cụ thể, đối với mỗi j, chúng ta có: `Pr[x∈TTWj]≤pk2=1/n`\n",
        "\n",
        "Điều đó có nghĩa là xác suất một điểm dữ liệu bất kỳ x nằm cùng trong T và Wj không quá 1/n. Do đó, chúng ta có thể viết:\n",
        "\n",
        "`E[|T ∩ Wj|] = ∑x∈A Pr[x∈T ∩ Wj] ≤ ∑x∈A Pr[x∈T] Pr[x∈Wj] ≤ pk2 = 1/n.`\n",
        "\n",
        "Sử dụng tính tuyến tính của kỳ vọng, chúng ta có:\n",
        " \n",
        "`E[∑j=1LE[PLj=1 |T ∩ Wj|]] ≤ LE[|T ∩ Wj|] ≤ L/n.`\n",
        "\n",
        "Bây giờ, chúng ta có thể áp dụng bất đẳng thức Markov để có được:\n",
        "\n",
        "`Pr[∑j=1L|T ∩ Wj| > 3L] ≤ E[∑j=1L|T ∩ Wj|]/3L ≤ 1/3.`\n",
        "\n",
        "Do đó, xác suất tìm thấy nhiều hơn 3L điểm dữ liệu trong phần giao giữa T và mỗi Wj không quá 1/3, điều đó có nghĩa là với xác suất ít nhất là 2/3, chúng ta sẽ không tìm thấy nhiều hơn 3L điểm dữ liệu như vậy. Điều này hoàn thành bằng chứng."
      ],
      "metadata": {
        "id": "yGO-BU2_rx79"
      }
    },
    {
      "cell_type": "markdown",
      "source": [
        "**b.** Để chứng minh:` Pr [∀ 1 ≤ j ≤ L, gj(x∗) ≠ gj(z)] < 1/e`\n",
        "\n",
        "Trong đó x∗ là một điểm trong A sao cho `d(x∗, z) ≤ λ`.\n",
        "\n",
        "Để làm được điều này, ta có thể bắt đầu bằng việc sử dụng sự thật rằng đối với bất kỳ `1 ≤ j ≤ L` nào, ta có:\n",
        "\n",
        "`Pr[gj(x∗) = gj(z)] ≥ pk1`\n",
        "\n",
        "Trong đó pk1 là xác suất rằng `gj(x∗) = gj(z)`, được định nghĩa trong câu hỏi.\n",
        "\n",
        "Ta có thể sử dụng bất đẳng thức trên để thu được một giới hạn trên cho xác suất rằng `gj(x∗) ≠ gj(z)`, như sau:\n",
        "\n",
        "\n",
        "```\n",
        "Pr[gj(x∗) ≠ gj(z)] ≤ 1 - Pr[gj(x∗) = gj(z)] ≤ 1 - pk1\n",
        "\n",
        "= 1 - p^(log1/p2(n))_1 (thay thế pk1 bằng định nghĩa của nó)\n",
        "\n",
        "= 1 - (1/n)^(log1/p2(n))\n",
        "\n",
        "= 1 - (1/n)^ρ (với ρ = log(1/p1) / log(1/p2))\n",
        "\n",
        "= 1 - 1/L\n",
        "\n",
        "= (L - 1) / L\n",
        "```\n",
        "Trong đó ta đã sử dụng thực tế rằng `k = log1/p2(n), do đó L = n^ρ`.\n",
        "\n",
        "Tiếp theo, ta có thể sử dụng bất đẳng thức trên để thu được một giới hạn trên cho xác suất rằng tất cả các gj đều thỏa mãn `gj(x∗) ≠ gj(z)`, như sau:\n",
        "```\n",
        "Pr [∀ 1 ≤ j ≤ L, gj(x∗) ≠ gj(z)] ≤ ∏_{j=1}^L Pr[gj(x∗) ≠ gj(z)] (sử dụng kết hợp liên minh) ≤ [(L - 1) / L]^L ≤ e^(-1)\n",
        "```\n",
        "Trong đó ta đã sử dụng thực tế rằng `(1 - 1/L)^L ≤ 1/e` cho bất kỳ số nguyên dương L nào.\n",
        "\n",
        "Do đó, ta đã chứng minh được rằng:\n",
        "\n",
        "`Pr [∀ 1 ≤ j ≤ L, gj(x∗) ≠ gj(z)] < 1/e`\n"
      ],
      "metadata": {
        "id": "uEEUU01qsB-z"
      }
    },
    {
      "cell_type": "markdown",
      "source": [
        "**c.** Để kết luận rằng với xác suất lớn hơn một hằng số cố định thì điểm được báo cáo là một `(c, λ)-ANN` thực sự, chúng ta cần chỉ ra rằng xác suất thất bại được giới hạn bởi một hằng số. Điều này có thể thực hiện bằng cách kết hợp kết quả từ phần (a) và phần (b).\n",
        "\n",
        "Giả sử x* là hàng xóm gần nhất thực sự với điểm truy vấn z với khoảng cách `d (x*, z) ≤ λ`. Từ phần (b), chúng ta biết rằng với xác suất ít nhất là `1 - 1/e`, x* được băm vào ít nhất một trong L thùng mà điểm truy vấn băm vào, tức là tồn tại một hàm băm gj sao cho `gj (x *) = gj (z)`.\n",
        "\n",
        "Bây giờ, hãy để Wj là tập hợp các điểm dữ liệu được ánh xạ đến cùng một thùng như điểm truy vấn z bằng cách sử dụng hàm băm gj, như được định nghĩa trong phần (a). Hãy để T là tập hợp các điểm dữ liệu cách điểm truy vấn xa hơn cλ. Từ phần (a), chúng ta biết rằng xác suất của ít nhất 3L điểm dữ liệu nằm trong phần giao của T và Wj cho một số j nhỏ hơn hoặc bằng 1/3.\n",
        "\n",
        "Giả sử rằng x* được băm vào ít nhất một trong L thùng mà điểm truy vấn băm vào, chúng ta cần xem xét hai trường hợp:\n",
        "\n",
        "*Trường hợp 1:* x* không nằm trong phần giao của T và bất kỳ Wj nào. Trong trường hợp này, thuật toán sẽ trả về x *, đó là hàng xóm gần nhất thực sự với điểm truy vấn với khoảng cách `d(x *, z) ≤ λ`.\n",
        "\n",
        "*Trường hợp 2:* x* nằm trong phần giao của T và một số Wj. Trong trường hợp này, thuật toán có thể trả về một điểm không phải là hàng xóm gần nhất thực sự với điểm truy vấn. \n",
        "\n",
        "Tuy nhiên, xác suất của việc này có thể được giới hạn như sau:\n",
        "\n",
        "Giả sử Yj là biến chỉ mục có giá trị bằng 1 nếu có ít nhất 3 điểm dữ liệu nằm trong giao của T và Wj, và bằng 0 nếu không. Khi đó, xác suất thất bại của thuật toán có thể được biểu diễn như sau:\n",
        "\n",
        "`Pr[thuật toán thất bại] = Pr[x* nằm trong giao của T và một số Wj] × Pr[thuật toán chọn một điểm không phải x* từ giao này]`\n",
        "\n",
        "Sử dụng bất đẳng thức liên hợp và kết quả từ phần (a), ta có:\n",
        "\n",
        "`Pr[x* nằm trong giao của T và một số Wj] ≤ Σj Pr[Yj = 1] ≤ Σj Pr[3L điểm dữ liệu nằm trong T và Wj] ≤ L(1/3) = ρlog(1/p1)`\n",
        "\n",
        "Ở đây, bất đẳng thức cuối cùng được suy ra từ định nghĩa của ρ trong thủ tục.\n",
        "\n",
        "Giờ đây, giả sử Zj là biến chỉ mục có giá trị bằng 1 nếu thuật toán chọn một điểm không phải x* từ giao của T và Wj, và bằng 0 nếu không. Khi đó, xác suất chọn một điểm không phải x* từ giao của T và Wj có thể được biểu diễn như sau:\n",
        "\n",
        "`Pr[thuật toán chọn một điểm không phải x* từ giao này] = Σj Pr[Zj = 1]`\n",
        "\n",
        "Vì các điểm dữ liệu được chọn đồng đều ngẫu nhiên từ giao của T và Wj, nên xác suất chọn một điểm không phải x* bị chặn dưới bởi (|T ∩ Wj| - 1) / |T ∩ Wj|. Do đó, ta có:\n",
        "\n",
        "`Pr[Zj = 1] ≤ (|T ∩ Wj| - 1) / |T ∩ Wj| ≤ 1 - 1/|T ∩ Wj|`\n",
        "\n",
        "Sử dụng bất đẳng thức liên hợp một lần nữa, ta có:\n",
        "\n",
        "`Pr[thuật toán thất bại] ≤ Pr[x* nằm trong giao của T và một số Wj] × Pr[thuật toán chọn một điểm không phải x* từ giao này]`\n"
      ],
      "metadata": {
        "id": "HT7u6-_Ns7vw"
      }
    },
    {
      "cell_type": "markdown",
      "metadata": {
        "id": "BBtJDCaxplwp"
      },
      "source": [
        "### LSH for Approximate Near Neighbor Search"
      ]
    },
    {
      "cell_type": "code",
      "source": [
        "!pip install -U -q PyDrive"
      ],
      "metadata": {
        "id": "b4NKd1Qek8_U"
      },
      "execution_count": 1,
      "outputs": []
    },
    {
      "cell_type": "code",
      "source": [
        "from pydrive.auth import GoogleAuth\n",
        "from pydrive.drive import GoogleDrive\n",
        "from google.colab import auth\n",
        "from oauth2client.client import GoogleCredentials\n",
        "\n",
        "# Authenticate and create the PyDrive client\n",
        "auth.authenticate_user()\n",
        "gauth = GoogleAuth()\n",
        "gauth.credentials = GoogleCredentials.get_application_default()\n",
        "drive = GoogleDrive(gauth)"
      ],
      "metadata": {
        "id": "0_caN87nk_Ye"
      },
      "execution_count": null,
      "outputs": []
    },
    {
      "cell_type": "code",
      "source": [
        "id='1uhdf1fabWQjCmEEOG_HOG5oV7rMLlevt'\n",
        "downloaded = drive.CreateFile({'id': id})\n",
        "downloaded.GetContentFile('patches.csv')"
      ],
      "metadata": {
        "id": "I0i0PhJUlD9E"
      },
      "execution_count": null,
      "outputs": []
    },
    {
      "cell_type": "code",
      "source": [
        "import numpy as np\n",
        "import random\n",
        "import time\n",
        "import pdb\n",
        "import unittest\n",
        "from PIL import Image\n",
        "import matplotlib.pyplot as plt"
      ],
      "metadata": {
        "id": "XsrCQT2dlG08"
      },
      "execution_count": null,
      "outputs": []
    },
    {
      "cell_type": "markdown",
      "metadata": {
        "id": "-QaBEFPBkj_6"
      },
      "source": [
        "Finds the L1 distance between two vectors<br>\n",
        "u and v are 1-dimensional np.array objects<br>\n",
        "TODO: Implement this"
      ]
    },
    {
      "cell_type": "code",
      "execution_count": null,
      "metadata": {
        "id": "F8VEViyXkj_7"
      },
      "outputs": [],
      "source": [
        "def l1(u, v):\n",
        "    return np.sum(abs(u - v))"
      ]
    },
    {
      "cell_type": "markdown",
      "metadata": {
        "id": "HxxD4UvMkj_7"
      },
      "source": [
        "Loads the data into a np array, where each row corresponds to<br>\n",
        "an image patch -- this step is sort of slow.<br>\n",
        "Each row in the data is an image, and there are 400 columns."
      ]
    },
    {
      "cell_type": "code",
      "execution_count": null,
      "metadata": {
        "id": "L_ZLuzRokj_8"
      },
      "outputs": [],
      "source": [
        "def load_data(filename):\n",
        "    return np.genfromtxt(filename, delimiter=',')"
      ]
    },
    {
      "cell_type": "markdown",
      "metadata": {
        "id": "V_tBqfWTkj_8"
      },
      "source": [
        "Creates a hash function from a list of dimensions and thresholds."
      ]
    },
    {
      "cell_type": "code",
      "execution_count": null,
      "metadata": {
        "id": "-Mw039nfkj_9"
      },
      "outputs": [],
      "source": [
        "def create_function(dimensions, thresholds):\n",
        "    def f(v):\n",
        "        # v : input\n",
        "        boolarray = [v[dimensions[i]] >= thresholds[i] for i in range(len(dimensions))]\n",
        "        return \"\".join(map(str, map(int, boolarray)))\n",
        "    return f"
      ]
    },
    {
      "cell_type": "markdown",
      "metadata": {
        "id": "SEINOfD_kj_9"
      },
      "source": [
        "Creates the LSH functions (functions that compute L K-bit hash keys).<br>\n",
        "Each function selects k dimensions (i.e. column indices of the image matrix)<br>\n",
        "at random, and then chooses a random threshold for each dimension, between 0 and<br>\n",
        "255.  For any image, if its value on a given dimension is greater than or equal to<br>\n",
        "the randomly chosen threshold, we set that bit to 1.  Each hash function returns<br>\n",
        "a length-k bit string of the form \"0101010001101001...\", and the L hash functions <br>\n",
        "will produce L such bit strings for each image."
      ]
    },
    {
      "cell_type": "code",
      "execution_count": null,
      "metadata": {
        "id": "mQQUd7ZEkj_-"
      },
      "outputs": [],
      "source": [
        "def create_functions(k, L, num_dimensions=400, min_threshold=0, max_threshold=255):\n",
        "    functions = []\n",
        "    for i in range(L):\n",
        "        dimensions = np.random.randint(low = 0, \n",
        "                                   high = num_dimensions,\n",
        "                                   size = k)\n",
        "        thresholds = np.random.randint(low = min_threshold, \n",
        "                                   high = max_threshold + 1, \n",
        "                                   size = k)\n",
        "        functions.append(create_function(dimensions, thresholds))\n",
        "    return functions"
      ]
    },
    {
      "cell_type": "markdown",
      "metadata": {
        "id": "d1luc-b_kj_-"
      },
      "source": [
        "Hashes an individual vector (i.e. image).  This produces an array with L<br>\n",
        "entries, where each entry is a string of k bits."
      ]
    },
    {
      "cell_type": "code",
      "execution_count": null,
      "metadata": {
        "id": "4oXmtRnRkj__"
      },
      "outputs": [],
      "source": [
        "def hash_vector(functions, v):\n",
        "    return np.array([f(v) for f in functions])"
      ]
    },
    {
      "cell_type": "markdown",
      "metadata": {
        "id": "rOrQdj6Kkj__"
      },
      "source": [
        "Hashes the data in A, where each row is a datapoint, using the L<br>\n",
        "functions in \"functions.\""
      ]
    },
    {
      "cell_type": "code",
      "execution_count": null,
      "metadata": {
        "id": "UOe21Rh1kj__"
      },
      "outputs": [],
      "source": [
        "def hash_data(functions, A):\n",
        "    return np.array(list(map(lambda v: hash_vector(functions, v), A)))"
      ]
    },
    {
      "cell_type": "markdown",
      "metadata": {
        "id": "iosPPXJpkj__"
      },
      "source": [
        "Retrieve all of the points that hash to one of the same buckets <br>\n",
        "as the query point.  Do not do any random sampling (unlike what the first<br>\n",
        "part of this problem prescribes).<br>\n",
        "Don't retrieve a point if it is the same point as the query point."
      ]
    },
    {
      "cell_type": "code",
      "execution_count": null,
      "metadata": {
        "id": "N9laY8xNkkAA"
      },
      "outputs": [],
      "source": [
        "def get_candidates(hashed_A, hashed_point, query_index):\n",
        "    return filter(lambda i: i != query_index and \\\n",
        "        any(hashed_point == hashed_A[i]), range(len(hashed_A)))"
      ]
    },
    {
      "cell_type": "markdown",
      "metadata": {
        "id": "NuLg5fAZkkAA"
      },
      "source": [
        "Sets up the LSH.  You should try to call this function as few times as <br>\n",
        "possible, since it is expensive.<br>\n",
        "A: The dataset.<br>\n",
        "Return the LSH functions and hashed data structure."
      ]
    },
    {
      "cell_type": "code",
      "execution_count": null,
      "metadata": {
        "id": "zGSCwHl9kkAA"
      },
      "outputs": [],
      "source": [
        "def lsh_setup(A, k = 24, L = 10):\n",
        "    functions = create_functions(k = k, L = L)\n",
        "    hashed_A = hash_data(functions, A)\n",
        "    return (functions, hashed_A)"
      ]
    },
    {
      "cell_type": "markdown",
      "metadata": {
        "id": "opJMOyKbkkAA"
      },
      "source": [
        "Run the entire LSH algorithm"
      ]
    },
    {
      "cell_type": "code",
      "execution_count": null,
      "metadata": {
        "id": "wvFymIEPkkAB"
      },
      "outputs": [],
      "source": [
        "def lsh_search(A, hashed_A, functions, query_index, num_neighbors = 10):\n",
        "    hashed_point = hash_vector(functions, A[query_index, :])\n",
        "    candidate_row_nums = get_candidates(hashed_A, hashed_point, query_index)\n",
        "    \n",
        "    distances = map(lambda r: (r, l1(A[r], A[query_index])), candidate_row_nums)\n",
        "    best_neighbors = sorted(distances, key=lambda t: t[1])[:num_neighbors]\n",
        "    return [t[0] for t in best_neighbors]"
      ]
    },
    {
      "cell_type": "markdown",
      "metadata": {
        "id": "1Dct3xGokkAB"
      },
      "source": [
        "Plots images at the specified rows and saves them each to files."
      ]
    },
    {
      "cell_type": "code",
      "execution_count": null,
      "metadata": {
        "id": "Ru-YEuFMkkAB"
      },
      "outputs": [],
      "source": [
        "def plot(A, row_nums, base_filename):\n",
        "    for row_num in row_nums:\n",
        "        patch = np.reshape(A[row_num, :], [20, 20])\n",
        "        im = Image.fromarray(patch)\n",
        "        if im.mode != 'RGB':\n",
        "            im = im.convert('RGB')\n",
        "        im.save(base_filename + \"-\" + str(row_num) + \".png\")"
      ]
    },
    {
      "cell_type": "markdown",
      "metadata": {
        "id": "zfsdjsomkkAB"
      },
      "source": [
        "Finds the nearest neighbors to a given vector, using linear search."
      ]
    },
    {
      "cell_type": "code",
      "execution_count": null,
      "metadata": {
        "id": "8z6WAegkkkAC"
      },
      "outputs": [],
      "source": [
        "def linear_search(A, query_index, num_neighbors):\n",
        "    neighbors_arr = []\n",
        "    vector = A[query_index]\n",
        "    for row_index in range(len(A)):\n",
        "        if row_index != query_index:\n",
        "            candidate = A[row_index]\n",
        "            distance = l1(candidate,vector)\n",
        "            if len(neighbors_arr) < num_neighbors:\n",
        "                neighbors_arr.append([row_index,distance])\n",
        "                max_neighbor = max(neighbors_arr,key=lambda x: x[1])\n",
        "                neighbors_arr = sorted(neighbors_arr, key=lambda x: x[1])\n",
        "            else:\n",
        "                if distance > neighbors_arr[-1][1]:\n",
        "                    continue\n",
        "                candidate_idx = -1\n",
        "                for idx in range(len(neighbors_arr),0,-1):\n",
        "                    if neighbors_arr[idx-1][1] > distance:\n",
        "                        candidate_idx = idx-1\n",
        "                neighbors_arr.pop(candidate_idx)\n",
        "                neighbors_arr.insert(candidate_idx,[row_index,distance])\n",
        "    sorted_arr = sorted(neighbors_arr, key=lambda x: x[1])\n",
        "    return [neighbor[0] for neighbor in sorted_arr] "
      ]
    },
    {
      "cell_type": "markdown",
      "metadata": {
        "id": "X_Ao5THDkkAC"
      },
      "source": [
        "TODO: Write a function that computes the error measure"
      ]
    },
    {
      "cell_type": "code",
      "execution_count": null,
      "metadata": {
        "id": "ptYiWIeFkkAC"
      },
      "outputs": [],
      "source": [
        "'''Hàm get_error dùng để tính trung bình sai số của một tập hình ảnh dựa trên khoảng cách của chúng đến các hàng xóm gần nhất\n",
        "Hàm sử dụng hai loại khoảng cách để tính toán sai số: khoảng cách L1 (hoặc khoảng cách Mahalanobis) giữa các điểm dữ liệu trong ma trận A, \n",
        "và sau đó tính tổng các khoảng cách này để tính khoảng cách tuyến tính và khoảng cách tìm kiếm băm. \n",
        "Sau đó, hàm tính toán tỷ lệ giữa khoảng cách tìm kiếm băm và khoảng cách tuyến tính để tính toán sai số cho từng mảnh ảnh, \n",
        "và cuối cùng tính trung bình của tất cả các sai số để trả về kết quả.'''\n",
        "def get_error(A, image_patches, linear_neighbors, lsh_neighbours):\n",
        "    error_sum = 0\n",
        "    num_patches = len(image_patches)\n",
        "    for j in range(num_patches):\n",
        "        patch = image_patches[j]\n",
        "        linear_distance = sum([l1(A[idx], A[patch]) for idx in linear_neighbors[j]])\n",
        "        lsh_distance = sum([l1(A[idx], A[patch]) for idx in lsh_neighbours[j]])\n",
        "        patch_error = lsh_distance / linear_distance\n",
        "        error_sum += patch_error\n",
        "    return error_sum / num_patches"
      ]
    },
    {
      "cell_type": "markdown",
      "metadata": {
        "id": "LCJSSsJnkkAC"
      },
      "source": [
        "TODO: Solve Problem 4"
      ]
    },
    {
      "cell_type": "code",
      "execution_count": null,
      "metadata": {
        "id": "bXpBIfvrkkAD"
      },
      "outputs": [],
      "source": [
        "'''Hàm run_simulation dùng để chạy mô phỏng thực hiện tìm kiếm hàng xóm trên tập dữ liệu\n",
        "Sử dụng hai phương pháp tìm kiếm hàng xóm: linear_search() VÀ  lsh_search()'''\n",
        "def run_simulation(data,K,L):\n",
        "    linear_neighbors = []\n",
        "    lsh_neighbours = []\n",
        "    functions, hashed_A = lsh_setup(data,K,L)\n",
        "    for i in [99,199,299,399,499,599,699,799,899,999]:\n",
        "        linear_neighbors.append(linear_search(data, i, 3))\n",
        "        lsh_neighbours.append(lsh_search(data,hashed_A,functions,i,3))\n",
        "    return linear_neighbors,lsh_neighbours\n",
        "\n",
        "'''Các bước chính được thực hiện bao gồm:\n",
        "- Đo thời gian trung bình để tìm kiếm hàng xóm bằng phương pháp tìm kiếm tuyến tính và phương pháp tìm kiếm băm. \n",
        "Trong đó, ta sử dụng một số điểm dữ liệu cụ thể và tìm kiếm 3 hàng xóm cho mỗi điểm dữ liệu đó.\n",
        "- Tìm kiếm 10 hàng xóm gần nhất của một điểm dữ liệu (ở đây là điểm dữ liệu thứ 99) \n",
        "bằng phương pháp tìm kiếm tuyến tính và phương pháp tìm kiếm băm với các giá trị K và L khác nhau. \n",
        "Sau đó, vẽ đồ thị biểu diễn các điểm dữ liệu được tìm thấy.\n",
        "- Cuối cùng, vẽ đồ thị biểu diễn điểm dữ liệu gốc (điểm dữ liệu thứ 99).'''\n",
        "def problem4():\n",
        "    start_time = time.time()\n",
        "    functions, hashed_A = lsh_setup(data)\n",
        "    linear_time = 0.0\n",
        "    lsh_time = 0.0\n",
        "    for i in [99,199,299,399,499,599,699,799,899,999]:\n",
        "        print(\"row: %s\"%i)\n",
        "        start_time = time.time()\n",
        "        neighbors = linear_search(data, i, 3)\n",
        "        run_time = time.time() - start_time\n",
        "        print(\"neighbors: {0} found in {1} seconds\".format(neighbors,run_time))\n",
        "        linear_time += run_time\n",
        "        start_time = time.time()\n",
        "        neighbors = lsh_search(data,hashed_A,functions,i,3)\n",
        "        run_time = time.time() - start_time\n",
        "        print(\"neighbors: {0} found in {1} seconds\".format(neighbors,run_time))\n",
        "        lsh_time += run_time\n",
        "    print('')\n",
        "    print(\"linear average: {0}\".format(linear_time/10))\n",
        "    print(\"lsh average: {0}\".format(lsh_time/10))      \n",
        "\n",
        "    functions, hashed_A = lsh_setup(data)\n",
        "    lsh_search_results = []\n",
        "    while len(lsh_search_results) < 10:\n",
        "        lsh_search_results = lsh_search(data, hashed_A, functions, 99)\n",
        "    plot(data, lsh_search_results, \"k_24_L_10\")\n",
        "\n",
        "    functions, hashed_A = lsh_setup(data, 10, 10)\n",
        "    lsh_search_results = []\n",
        "    while len(lsh_search_results) < 10:\n",
        "        lsh_search_results = lsh_search(data, hashed_A, functions, 99)\n",
        "    plot(data, lsh_search_results, \"k_10_L_10\")\n",
        "\n",
        "    linear_search_results = linear_search(data, 99, 10)\n",
        "    plot(data, linear_search_results, \"linear_search\")\n",
        "    plot(data, [99], \"origin\")"
      ]
    },
    {
      "cell_type": "markdown",
      "metadata": {
        "id": "5sKz5dw0kkAG"
      },
      "source": [
        "## TESTS #####"
      ]
    },
    {
      "cell_type": "code",
      "execution_count": null,
      "metadata": {
        "id": "7tFTnfx4kkAG"
      },
      "outputs": [],
      "source": [
        "class TestLSH(unittest.TestCase):\n",
        "    def test_l1(self):\n",
        "        u = np.array([1, 2, 3, 4])\n",
        "        v = np.array([2, 3, 2, 3])\n",
        "        self.assertEqual(l1(u, v), 4)\n",
        "    def test_hash_data(self):\n",
        "        f1 = lambda v: sum(v)\n",
        "        f2 = lambda v: sum([x * x for x in v])\n",
        "        A = np.array([[1, 2, 3], [4, 5, 6]])\n",
        "        self.assertEqual(f1(A[0,:]), 6)\n",
        "        self.assertEqual(f2(A[0,:]), 14)\n",
        "        functions = [f1, f2]\n",
        "        self.assertTrue(np.array_equal(hash_vector(functions, A[0, :]), np.array([6, 14])))\n",
        "        self.assertTrue(np.array_equal(hash_data(functions, A), np.array([[6, 14], [15, 77]])))\n",
        "\n",
        "    ### TODO: Write your tests here (they won't be graded, \n",
        "    ### but you may find them helpful)"
      ]
    },
    {
      "cell_type": "code",
      "source": [
        "if __name__ == '__main__':\n",
        "    # unittest.main() # TODO: Uncomment this to run tests\n",
        "    data = load_data(\"/content/patches.csv\")\n",
        "    problem4()"
      ],
      "metadata": {
        "colab": {
          "base_uri": "https://localhost:8080/"
        },
        "id": "Kw-_ko-rmVFx",
        "outputId": "ca93b91c-b12f-49d9-8d1b-b74d0054b6c4"
      },
      "execution_count": null,
      "outputs": [
        {
          "output_type": "stream",
          "name": "stdout",
          "text": [
            "row: 99\n",
            "neighbors: [58690, 26168, 38169] found in 0.4590115547180176 seconds\n",
            "neighbors: [58690, 38169, 48596] found in 0.16088318824768066 seconds\n",
            "row: 199\n",
            "neighbors: [39397, 23895, 23550] found in 0.4744384288787842 seconds\n",
            "neighbors: [40686, 20444, 20492] found in 0.1540083885192871 seconds\n",
            "row: 299\n",
            "neighbors: [51140, 42007, 51155] found in 0.45354127883911133 seconds\n",
            "neighbors: [51140, 23097, 8430] found in 0.22973895072937012 seconds\n",
            "row: 399\n",
            "neighbors: [20536, 20572, 46641] found in 0.45203161239624023 seconds\n",
            "neighbors: [19014, 40787, 10931] found in 0.17612671852111816 seconds\n",
            "row: 499\n",
            "neighbors: [14552, 51717, 44906] found in 0.4626274108886719 seconds\n",
            "neighbors: [44906, 48613, 9750] found in 0.1753551959991455 seconds\n",
            "row: 599\n",
            "neighbors: [6201, 47784, 59148] found in 0.4489271640777588 seconds\n",
            "neighbors: [59148, 7139, 30684] found in 0.16450190544128418 seconds\n",
            "row: 699\n",
            "neighbors: [50345, 40811, 45294] found in 0.4515812397003174 seconds\n",
            "neighbors: [50345, 31709, 40811] found in 0.1982719898223877 seconds\n",
            "row: 799\n",
            "neighbors: [33741, 24319, 33771] found in 0.439990758895874 seconds\n",
            "neighbors: [32714, 6864, 49878] found in 0.15105438232421875 seconds\n",
            "row: 899\n",
            "neighbors: [34377, 41365, 40190] found in 0.46075439453125 seconds\n",
            "neighbors: [41365, 38565, 40190] found in 0.15737390518188477 seconds\n",
            "row: 999\n",
            "neighbors: [46093, 59238, 51830] found in 0.4565145969390869 seconds\n",
            "neighbors: [51503, 53740, 16443] found in 0.18331646919250488 seconds\n",
            "\n",
            "linear average: 0.4559418439865112\n",
            "lsh average: 0.1750631093978882\n"
          ]
        }
      ]
    },
    {
      "cell_type": "markdown",
      "source": [
        "**Plots for error value L**"
      ],
      "metadata": {
        "id": "iUF5JWjOwdfR"
      }
    },
    {
      "cell_type": "code",
      "source": [
        "image_patches = [99,199,299,399,499,599,699,799,899,999]\n",
        "error_arrL = []\n",
        "    \n",
        "error_arrL = [get_error(data, image_patches, *run_simulation(data, 24, L)) for L in range(10, 22, 2)]\n",
        "\n",
        "L = [l for l in range(10,22,2)]\n",
        "plt.plot(L,error_arrL, color='red')\n",
        "plt.xlabel('L')\n",
        "plt.ylabel('error')\n",
        "plt.savefig('error_L.png')"
      ],
      "metadata": {
        "colab": {
          "base_uri": "https://localhost:8080/",
          "height": 453
        },
        "id": "7LPCJbE4tXKH",
        "outputId": "6f7c3faf-42c8-4fd7-fc46-bfea0a237fc1"
      },
      "execution_count": null,
      "outputs": [
        {
          "output_type": "display_data",
          "data": {
            "text/plain": [
              "<Figure size 640x480 with 1 Axes>"
            ],
            "image/png": "[encoded data removed]"
          },
          "metadata": {}
        }
      ]
    },
    {
      "cell_type": "markdown",
      "source": [
        "**Plots for error value K**"
      ],
      "metadata": {
        "id": "KJetSnj6wijX"
      }
    },
    {
      "cell_type": "code",
      "source": [
        "error_arrK = []\n",
        "error_arrK = [get_error(data, image_patches, *run_simulation(data, k, 10)) for k in range(16,26,2)]\n",
        "K = [k for k in range(16,26,2)]\n",
        "plt.plot(K,error_arrK, color='red')\n",
        "plt.xlabel('K')\n",
        "plt.ylabel('error')\n",
        "plt.savefig('error_K.png')"
      ],
      "metadata": {
        "colab": {
          "base_uri": "https://localhost:8080/",
          "height": 449
        },
        "id": "HnFIcU66tTJU",
        "outputId": "05738d5b-f2c0-45db-e088-0f1860b42cbd"
      },
      "execution_count": null,
      "outputs": [
        {
          "output_type": "display_data",
          "data": {
            "text/plain": [
              "<Figure size 640x480 with 1 Axes>"
            ],
            "image/png": "[encoded data removed]"
          },
          "metadata": {}
        }
      ]
    }
  ]
}